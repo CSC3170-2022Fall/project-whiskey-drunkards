{
 "cells": [
  {
   "cell_type": "code",
   "execution_count": 44,
   "metadata": {},
   "outputs": [],
   "source": [
    "import pandas as pd\n",
    "import numpy as np"
   ]
  },
  {
   "cell_type": "code",
   "execution_count": 45,
   "metadata": {},
   "outputs": [],
   "source": [
    "operation_types = ['System Specification','Architectural Design','Functional Design',\n",
    "                    'Physical Design','Verification and Signoff','Fabrication','Packaging and Testing']"
   ]
  },
  {
   "cell_type": "code",
   "execution_count": 46,
   "metadata": {},
   "outputs": [],
   "source": [
    "users = pd.read_excel(r'dataset/user.xlsx')"
   ]
  },
  {
   "cell_type": "code",
   "execution_count": 47,
   "metadata": {},
   "outputs": [],
   "source": [
    "import string\n",
    "import random"
   ]
  },
  {
   "cell_type": "code",
   "execution_count": 48,
   "metadata": {},
   "outputs": [],
   "source": [
    "'''CREATE TABLE package\n",
    "(USER_ID   INT,\n",
    "PACKAGE_ID  INT,\n",
    "BUDGET  DEC(6,2),\n",
    "CREATE_TIME DATETIME,\n",
    "DEADLINE  DATETIME,\n",
    "PRIMARY KEY(PACKAGE_ID),\n",
    "FOREIGN KEY(USER_ID) REFERENCES user(USER_ID));'''\n",
    "\n",
    "user_id = np.random.choice([i for i in range(300)]+[i for i in range(700,850)],size=500)\n",
    "package_id = [i for i in range(500)]\n",
    "budget = np.random.normal(2000,700,size=1000)\n",
    "budget = [i for i in budget if i>200][:500]\n"
   ]
  },
  {
   "cell_type": "code",
   "execution_count": 53,
   "metadata": {},
   "outputs": [],
   "source": [
    "import datetime\n",
    "import time\n",
    " \n",
    "end_time=datetime.datetime.now()\n",
    "start_time=datetime.datetime.now() + datetime.timedelta(days=-365) # 当前时间减去3分钟\n",
    " \n",
    "a1=tuple(start_time.timetuple()[0:9])    #设置开始日期时间元组（2020-04-11 16:30:21）\n",
    "a2=tuple(end_time.timetuple()[0:9])   #设置结束日期时间元组（2020-04-11 16:33:21）\n",
    " \n",
    "start=time.mktime(a1)    #生成开始时间戳\n",
    "end=time.mktime(a2)      #生成结束时间戳\n",
    "\n",
    "create_time = []\n",
    "deadline = []\n",
    "#随机生成日期字符串\n",
    "for i in range(len(user_id)):\n",
    "    t=random.randint(start,end)    #在开始和结束时间戳中随机取出一个\n",
    "    date_touple=time.localtime(t)          #将时间戳生成时间元组\n",
    "    date=time.strftime(\"%Y-%m-%d %H:%M:%S\",date_touple)   #将时间元组转成格式化字符串（2020-04-11 16:33:21）\n",
    "    date = datetime.datetime.strptime(date,\"%Y-%m-%d %H:%M:%S\")\n",
    "    create_time.append(date)\n",
    "\n",
    "    duration = random.randint(10,20)\n",
    "    ddl = date + datetime.timedelta(days=duration)\n",
    "    # ddl = datetime.datetime.strptime(date,\"%Y-%m-%d %H:%M:%S\") + datetime.timedelta(days=duration)\n",
    "    # ddl = time.strftime(\"%Y-%m-%d %H:%M:%S\",ddl)\n",
    "    deadline.append(ddl)"
   ]
  },
  {
   "cell_type": "code",
   "execution_count": 54,
   "metadata": {},
   "outputs": [],
   "source": [
    "package = pd.DataFrame(data={'user_id':user_id,'package_id':package_id,\n",
    "            'budget':budget,'create_time':create_time,'deadline':deadline})\n",
    "package.to_excel('dataset/package.xlsx',index=False)"
   ]
  },
  {
   "cell_type": "code",
   "execution_count": 55,
   "metadata": {},
   "outputs": [],
   "source": [
    "'''CREATE TABLE chip_type\n",
    "(CHIP_NAME  VARCHAR(20),\n",
    "CHIP_VERSION  VARCHAR(20),\n",
    "PRIMARY KEY(CHIP_NAME,CHIP_VERSION));\n",
    "'''\n",
    "number_of_strings = 25\n",
    "length_of_string = 5\n",
    "chip_name=[]\n",
    "for x in range(number_of_strings):\n",
    "  name=''.join(random.SystemRandom().choice(string.ascii_letters + string.digits) for _ in range(length_of_string))\n",
    "  chip_name.append(name)\n",
    "chip_name += chip_name[:10]\n",
    "chip_name += chip_name[:5]\n",
    "versions = [1]*25+[2]*10+[3]*5\n",
    "chip_type = pd.DataFrame(data={'chip_name':chip_name, 'chip_version':versions})\n",
    "chip_type = chip_type.sort_values(by=['chip_name','chip_version'],ignore_index=True)\n",
    "chip_type.to_excel('dataset/chip_type.xlsx',index=False)"
   ]
  },
  {
   "cell_type": "code",
   "execution_count": 56,
   "metadata": {},
   "outputs": [],
   "source": [
    "'''CREATE TABLE chip\n",
    "(CHIP_NAME  VARCHAR(20),\n",
    "CHIP_VERSION  VARCHAR(20),\n",
    "PACKAGE_ID  INT,\n",
    "CHIP_ID  INT,\n",
    "FOREIGN KEY(CHIP_NAME,CHIP_VERSION) REFERENCES chip_type(CHIP_NAME,CHIP_VERSION),\n",
    "FOREIGN KEY(PACKAGE_ID) REFERENCES package(PACKAGE_ID));'''\n",
    "package_id = np.random.choice([i for i in range(150)]+[i for i in range(150,500)],\n",
    "                                size=800,p=[0.5/150]*150+[0.5/350]*350)\n",
    "chip = chip_type.sample(n=800, random_state=0,replace=True)\n",
    "chip_id = [i for i in range(800)]\n",
    "chip['package_id'],chip['chip_id']=package_id,chip_id\n",
    "chip.reset_index(inplace=True,drop=True)\n",
    "chip.to_excel('dataset/chip.xlsx',index=False)"
   ]
  },
  {
   "cell_type": "code",
   "execution_count": 65,
   "metadata": {},
   "outputs": [
    {
     "data": {
      "text/html": [
       "<div>\n",
       "<style scoped>\n",
       "    .dataframe tbody tr th:only-of-type {\n",
       "        vertical-align: middle;\n",
       "    }\n",
       "\n",
       "    .dataframe tbody tr th {\n",
       "        vertical-align: top;\n",
       "    }\n",
       "\n",
       "    .dataframe thead th {\n",
       "        text-align: right;\n",
       "    }\n",
       "</style>\n",
       "<table border=\"1\" class=\"dataframe\">\n",
       "  <thead>\n",
       "    <tr style=\"text-align: right;\">\n",
       "      <th></th>\n",
       "      <th>package_id</th>\n",
       "      <th>start_time</th>\n",
       "      <th>end_time</th>\n",
       "    </tr>\n",
       "  </thead>\n",
       "  <tbody>\n",
       "    <tr>\n",
       "      <th>0</th>\n",
       "      <td>0</td>\n",
       "      <td>2022-12-03 09:53:19</td>\n",
       "      <td>2022-12-13 20:53:19</td>\n",
       "    </tr>\n",
       "    <tr>\n",
       "      <th>1</th>\n",
       "      <td>1</td>\n",
       "      <td>2022-02-13 05:06:05</td>\n",
       "      <td>2022-02-22 11:06:05</td>\n",
       "    </tr>\n",
       "    <tr>\n",
       "      <th>2</th>\n",
       "      <td>2</td>\n",
       "      <td>2022-08-28 04:10:38</td>\n",
       "      <td>2022-09-08 14:10:38</td>\n",
       "    </tr>\n",
       "    <tr>\n",
       "      <th>3</th>\n",
       "      <td>3</td>\n",
       "      <td>2022-11-20 06:00:40</td>\n",
       "      <td>2022-12-05 08:00:40</td>\n",
       "    </tr>\n",
       "    <tr>\n",
       "      <th>4</th>\n",
       "      <td>4</td>\n",
       "      <td>2022-05-17 04:05:42</td>\n",
       "      <td>2022-05-28 03:05:42</td>\n",
       "    </tr>\n",
       "    <tr>\n",
       "      <th>...</th>\n",
       "      <td>...</td>\n",
       "      <td>...</td>\n",
       "      <td>...</td>\n",
       "    </tr>\n",
       "    <tr>\n",
       "      <th>495</th>\n",
       "      <td>495</td>\n",
       "      <td>2022-05-25 14:29:49</td>\n",
       "      <td>2022-06-04 11:29:49</td>\n",
       "    </tr>\n",
       "    <tr>\n",
       "      <th>496</th>\n",
       "      <td>496</td>\n",
       "      <td>2022-02-24 17:39:42</td>\n",
       "      <td>2022-03-08 06:39:42</td>\n",
       "    </tr>\n",
       "    <tr>\n",
       "      <th>497</th>\n",
       "      <td>497</td>\n",
       "      <td>2022-12-07 12:46:34</td>\n",
       "      <td>2022-12-23 00:46:34</td>\n",
       "    </tr>\n",
       "    <tr>\n",
       "      <th>498</th>\n",
       "      <td>498</td>\n",
       "      <td>2022-10-16 03:30:07</td>\n",
       "      <td>2022-11-02 18:30:07</td>\n",
       "    </tr>\n",
       "    <tr>\n",
       "      <th>499</th>\n",
       "      <td>499</td>\n",
       "      <td>2022-09-16 05:46:29</td>\n",
       "      <td>2022-09-26 22:46:29</td>\n",
       "    </tr>\n",
       "  </tbody>\n",
       "</table>\n",
       "<p>500 rows × 3 columns</p>\n",
       "</div>"
      ],
      "text/plain": [
       "     package_id          start_time            end_time\n",
       "0             0 2022-12-03 09:53:19 2022-12-13 20:53:19\n",
       "1             1 2022-02-13 05:06:05 2022-02-22 11:06:05\n",
       "2             2 2022-08-28 04:10:38 2022-09-08 14:10:38\n",
       "3             3 2022-11-20 06:00:40 2022-12-05 08:00:40\n",
       "4             4 2022-05-17 04:05:42 2022-05-28 03:05:42\n",
       "..          ...                 ...                 ...\n",
       "495         495 2022-05-25 14:29:49 2022-06-04 11:29:49\n",
       "496         496 2022-02-24 17:39:42 2022-03-08 06:39:42\n",
       "497         497 2022-12-07 12:46:34 2022-12-23 00:46:34\n",
       "498         498 2022-10-16 03:30:07 2022-11-02 18:30:07\n",
       "499         499 2022-09-16 05:46:29 2022-09-26 22:46:29\n",
       "\n",
       "[500 rows x 3 columns]"
      ]
     },
     "execution_count": 65,
     "metadata": {},
     "output_type": "execute_result"
    }
   ],
   "source": [
    "'''CREATE TABLE state\n",
    "(PACKAGE_ID  INT,\n",
    "START_TIME DATETIME,\n",
    "END_TIME DATETIME,\n",
    "NAME VARCHAR(20),\n",
    "FOREIGN KEY(PACKAGE_ID) REFERENCES package(PACKAGE_ID));'''\n",
    "\n",
    "start_time1, end_time1 = [], []\n",
    "for i in range(len(package)):\n",
    "    ct =  create_time[i]\n",
    "    lag = random.randint(1,8)\n",
    "    st = ct + datetime.timedelta(hours=lag)\n",
    "    start_time1.append(st)\n",
    "\n",
    "    ddl = deadline[i]\n",
    "    lag2 = random.randint(-100,4)\n",
    "    et = ddl + datetime.timedelta(hours=lag2)\n",
    "    end_time1.append(et)\n",
    "state = pd.DataFrame(data={'package_id':package['package_id'],'start_time':start_time1,'end_time':end_time1})\n",
    "state"
   ]
  }
 ],
 "metadata": {
  "kernelspec": {
   "display_name": "Python 3.10.1 64-bit",
   "language": "python",
   "name": "python3"
  },
  "language_info": {
   "codemirror_mode": {
    "name": "ipython",
    "version": 3
   },
   "file_extension": ".py",
   "mimetype": "text/x-python",
   "name": "python",
   "nbconvert_exporter": "python",
   "pygments_lexer": "ipython3",
   "version": "3.10.1"
  },
  "orig_nbformat": 4,
  "vscode": {
   "interpreter": {
    "hash": "1b4a3c146b2344438802af67d1e89b8ea4f4dbd8f085c3b33922d9563e53e23d"
   }
  }
 },
 "nbformat": 4,
 "nbformat_minor": 2
}
